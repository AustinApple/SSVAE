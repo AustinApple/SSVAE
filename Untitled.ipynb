{
 "cells": [
  {
   "cell_type": "code",
   "execution_count": 5,
   "metadata": {},
   "outputs": [
    {
     "name": "stdout",
     "output_type": "stream",
     "text": [
      "The autoreload extension is already loaded. To reload it, use:\n",
      "  %reload_ext autoreload\n",
      "26394 26394\n",
      "299999 299999\n",
      "(239999, 43, 39)\n"
     ]
    }
   ],
   "source": [
    "from __future__ import print_function\n",
    "%load_ext autoreload\n",
    "%autoreload \n",
    "import tensorflow as tf\n",
    "import numpy as np \n",
    "import sys\n",
    "np.set_printoptions(threshold=sys.maxsize)\n",
    "import pandas as pd\n",
    "from molecule_feature_prediction.feature import molecules\n",
    "from sklearn.preprocessing import StandardScaler\n",
    "from sklearn.metrics import mean_absolute_error\n",
    "import SSVAE\n",
    "\n",
    "\n",
    "char_set=[\" \", \"@\", \"H\", \"N\", \"S\", \"o\", \"i\", \"6\", \"I\", \"]\", \"P\", \"5\", \")\", \"4\", \"8\", \"B\", \"F\", \n",
    "           \"3\", \"9\", \"c\", \"-\", \"2\", \"p\", \"0\", \"n\", \"C\", \"(\", \"=\", \"+\", \"#\", \"1\", \"/\", \"7\", \n",
    "           \"s\", \"O\", \"[\", \"Cl\", \"Br\", \"\\\\\"] \n",
    "\n",
    "\n",
    "\n",
    "\n",
    "ls_smi_MP = pd.read_csv('MP_clean_canonize_cut.csv')['smiles'].tolist()\n",
    "ls_smi_zinc = pd.read_csv('zinc_30W.csv')['smiles'].tolist()\n",
    "arr_IE = pd.read_csv('MP_clean_canonize_cut.csv')[['IE','EA']].values\n",
    "\n",
    "X_L, Xs_L, ls_smi_MP_new = molecules(ls_smi_MP).one_hot_RNN(char_set=char_set)\n",
    "print(X_L.shape[0],len(ls_smi_MP_new))\n",
    "\n",
    "X_U, Xs_U, ls_smi_zinc_new = molecules(ls_smi_zinc).one_hot_RNN(char_set=char_set)\n",
    "print(X_U.shape[0],len(ls_smi_zinc_new))\n",
    "\n",
    "np.random.seed(0)\n",
    "perm_L = np.random.permutation(X_L.shape[0])\n",
    "np.random.seed(0)\n",
    "perm_U = np.random.permutation(X_U.shape[0])\n",
    "\n",
    "trnX_L, valX_L, tstX_L = np.split(X_L[perm_L], [int(len(X_L)*0.8), int(len(X_L)*0.9)])\n",
    "trnXs_L, valXs_L, tstXs_L = np.split(Xs_L[perm_L], [int(len(Xs_L)*0.8), int(len(Xs_L)*0.9)])\n",
    "trnY_L, valY_L, tstY_L = np.split(arr_IE[perm_L], [int(len(arr_IE)*0.8), int(len(arr_IE)*0.9)])\n",
    "trnX_U, valX_U, tstX_U = np.split(X_U[perm_U], [int(len(X_U)*0.8), int(len(X_U)*0.9)])\n",
    "trnXs_U, valXs_U, tstXs_U = np.split(Xs_U[perm_U], [int(len(Xs_U)*0.8), int(len(Xs_U)*0.9)])\n",
    "\n",
    "scaler_Y = StandardScaler()\n",
    "scaler_Y.fit(arr_IE)\n",
    "trnY_L=scaler_Y.transform(trnY_L)\n",
    "valY_L=scaler_Y.transform(valY_L)\n",
    "\n",
    "print(trnX_U.shape)"
   ]
  },
  {
   "cell_type": "code",
   "execution_count": 14,
   "metadata": {},
   "outputs": [
    {
     "name": "stdout",
     "output_type": "stream",
     "text": [
      "(21115, 43, 39)\n",
      "(21115, 43, 39)\n",
      "(21115, 2)\n",
      "(239999, 43, 39)\n",
      "(239999, 43, 39)\n"
     ]
    }
   ],
   "source": [
    "print(trnX_L.shape)\n",
    "print(trnXs_L.shape)\n",
    "print(trnY_L.shape)\n",
    "print(trnX_U.shape)\n",
    "print(trnXs_U.shape)\n"
   ]
  }
 ],
 "metadata": {
  "kernelspec": {
   "display_name": "Python 3",
   "language": "python",
   "name": "python3"
  },
  "language_info": {
   "codemirror_mode": {
    "name": "ipython",
    "version": 3
   },
   "file_extension": ".py",
   "mimetype": "text/x-python",
   "name": "python",
   "nbconvert_exporter": "python",
   "pygments_lexer": "ipython3",
   "version": "3.6.7"
  }
 },
 "nbformat": 4,
 "nbformat_minor": 4
}
